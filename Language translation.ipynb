{
 "cells": [
  {
   "cell_type": "markdown",
   "id": "7dbc9412",
   "metadata": {},
   "source": [
    "# English to french "
   ]
  },
  {
   "cell_type": "markdown",
   "id": "8f16e662",
   "metadata": {},
   "source": [
    "## using sequence to sequence learning model"
   ]
  },
  {
   "cell_type": "markdown",
   "id": "966e2fb5",
   "metadata": {},
   "source": [
    "# IMPORTING LIBRARIES"
   ]
  },
  {
   "cell_type": "code",
   "execution_count": 1,
   "id": "7ae195f2",
   "metadata": {},
   "outputs": [],
   "source": [
    "import numpy as np\n",
    "import tensorflow as tf"
   ]
  },
  {
   "cell_type": "code",
   "execution_count": 2,
   "id": "abd905c8",
   "metadata": {},
   "outputs": [],
   "source": [
    "from tensorflow import keras"
   ]
  },
  {
   "cell_type": "code",
   "execution_count": 3,
   "id": "6e3e27a1",
   "metadata": {},
   "outputs": [],
   "source": [
    "from keras.models import Model\n",
    "from keras.layers import LSTM, Dense, Input"
   ]
  },
  {
   "cell_type": "code",
   "execution_count": 4,
   "id": "3fb2f5ff",
   "metadata": {},
   "outputs": [],
   "source": [
    "batch_size=64\n",
    "epochs=100\n",
    "latent_dim=256\n",
    "num_samples=10000\n",
    "data_path=r'C:\\Users\\Lenovo\\Desktop\\fake news\\translate\\fra.txt'"
   ]
  },
  {
   "cell_type": "code",
   "execution_count": 5,
   "id": "74a29ce0",
   "metadata": {},
   "outputs": [],
   "source": [
    "input_texts=[]\n",
    "target_texts=[]\n",
    "input_characters=set()\n",
    "target_characters=set()\n",
    "with open(data_path, 'r', encoding='utf-8') as f:\n",
    "    lines=f.read().split('\\n')\n",
    "for line in lines[: min(num_samples, len(lines)-1)]:\n",
    "    input_text,target_text,_= line.split('\\t')\n",
    "    target_text='\\t'+target_text+'\\n'\n",
    "    input_texts.append(input_text)\n",
    "    target_texts.append(target_text)\n",
    "    for char in input_text:\n",
    "        if char not in input_characters:\n",
    "            input_characters.add(char)\n",
    "    for char in target_text:\n",
    "        if char not in target_characters:\n",
    "            target_characters.add(char)"
   ]
  },
  {
   "cell_type": "code",
   "execution_count": 6,
   "id": "5c43dcb7",
   "metadata": {},
   "outputs": [
    {
     "data": {
      "text/plain": [
       "['Go.',\n",
       " 'Va !',\n",
       " 'CC-BY 2.0 (France) Attribution: tatoeba.org #2877272 (CM) & #1158250 (Wittydev)']"
      ]
     },
     "execution_count": 6,
     "metadata": {},
     "output_type": "execute_result"
    }
   ],
   "source": [
    "lines[0].split('\\t')"
   ]
  },
  {
   "cell_type": "code",
   "execution_count": 7,
   "id": "ffe1a7e9",
   "metadata": {
    "scrolled": true
   },
   "outputs": [
    {
     "data": {
      "text/plain": [
       "'\\tVa !'"
      ]
     },
     "execution_count": 7,
     "metadata": {},
     "output_type": "execute_result"
    }
   ],
   "source": [
    "'\\t'+lines[0].split('\\t')[1]"
   ]
  },
  {
   "cell_type": "code",
   "execution_count": 8,
   "id": "aef0acb5",
   "metadata": {
    "scrolled": true
   },
   "outputs": [
    {
     "data": {
      "text/plain": [
       "{' ',\n",
       " '!',\n",
       " '\"',\n",
       " '$',\n",
       " '%',\n",
       " '&',\n",
       " \"'\",\n",
       " ',',\n",
       " '-',\n",
       " '.',\n",
       " '0',\n",
       " '1',\n",
       " '2',\n",
       " '3',\n",
       " '5',\n",
       " '7',\n",
       " '8',\n",
       " '9',\n",
       " ':',\n",
       " '?',\n",
       " 'A',\n",
       " 'B',\n",
       " 'C',\n",
       " 'D',\n",
       " 'E',\n",
       " 'F',\n",
       " 'G',\n",
       " 'H',\n",
       " 'I',\n",
       " 'J',\n",
       " 'K',\n",
       " 'L',\n",
       " 'M',\n",
       " 'N',\n",
       " 'O',\n",
       " 'P',\n",
       " 'Q',\n",
       " 'R',\n",
       " 'S',\n",
       " 'T',\n",
       " 'U',\n",
       " 'V',\n",
       " 'W',\n",
       " 'Y',\n",
       " 'a',\n",
       " 'b',\n",
       " 'c',\n",
       " 'd',\n",
       " 'e',\n",
       " 'f',\n",
       " 'g',\n",
       " 'h',\n",
       " 'i',\n",
       " 'j',\n",
       " 'k',\n",
       " 'l',\n",
       " 'm',\n",
       " 'n',\n",
       " 'o',\n",
       " 'p',\n",
       " 'q',\n",
       " 'r',\n",
       " 's',\n",
       " 't',\n",
       " 'u',\n",
       " 'v',\n",
       " 'w',\n",
       " 'x',\n",
       " 'y',\n",
       " 'z',\n",
       " 'é'}"
      ]
     },
     "execution_count": 8,
     "metadata": {},
     "output_type": "execute_result"
    }
   ],
   "source": [
    "input_characters"
   ]
  },
  {
   "cell_type": "code",
   "execution_count": 9,
   "id": "6f4539ba",
   "metadata": {},
   "outputs": [],
   "source": [
    "input_characters=sorted(list(input_characters))\n",
    "target_characters=sorted(list(target_characters))\n",
    "num_encoder_tokens=len(input_characters)\n",
    "num_decoder_tokens=len(target_characters)\n",
    "max_encoder_seq_length=max([len(txt) for txt in input_texts])\n",
    "max_decoder_seq_length=max([len(txt) for txt in target_texts])"
   ]
  },
  {
   "cell_type": "code",
   "execution_count": 10,
   "id": "33205b50",
   "metadata": {},
   "outputs": [
    {
     "name": "stdout",
     "output_type": "stream",
     "text": [
      "Number of samples: 10000\n",
      "Number of unique input tokens: 71\n",
      "Number of unique output tokens: 93\n",
      "Max sequence length inputs: 15\n",
      "Max sequence length outputs: 59\n"
     ]
    }
   ],
   "source": [
    "print('Number of samples:', len(input_texts))\n",
    "print('Number of unique input tokens:', num_encoder_tokens)\n",
    "print('Number of unique output tokens:', num_decoder_tokens)\n",
    "print('Max sequence length inputs:', max_encoder_seq_length)\n",
    "print('Max sequence length outputs:', max_decoder_seq_length)"
   ]
  },
  {
   "cell_type": "code",
   "execution_count": 11,
   "id": "f9d7828b",
   "metadata": {},
   "outputs": [],
   "source": [
    "input_token_index=dict([char,i] for i,char in enumerate(input_characters))\n",
    "target_token_index=dict([char,i] for i,char in enumerate(target_characters))"
   ]
  },
  {
   "cell_type": "code",
   "execution_count": 12,
   "id": "17ee2e8d",
   "metadata": {
    "scrolled": true
   },
   "outputs": [
    {
     "data": {
      "text/plain": [
       "{' ': 0,\n",
       " '!': 1,\n",
       " '\"': 2,\n",
       " '$': 3,\n",
       " '%': 4,\n",
       " '&': 5,\n",
       " \"'\": 6,\n",
       " ',': 7,\n",
       " '-': 8,\n",
       " '.': 9,\n",
       " '0': 10,\n",
       " '1': 11,\n",
       " '2': 12,\n",
       " '3': 13,\n",
       " '5': 14,\n",
       " '7': 15,\n",
       " '8': 16,\n",
       " '9': 17,\n",
       " ':': 18,\n",
       " '?': 19,\n",
       " 'A': 20,\n",
       " 'B': 21,\n",
       " 'C': 22,\n",
       " 'D': 23,\n",
       " 'E': 24,\n",
       " 'F': 25,\n",
       " 'G': 26,\n",
       " 'H': 27,\n",
       " 'I': 28,\n",
       " 'J': 29,\n",
       " 'K': 30,\n",
       " 'L': 31,\n",
       " 'M': 32,\n",
       " 'N': 33,\n",
       " 'O': 34,\n",
       " 'P': 35,\n",
       " 'Q': 36,\n",
       " 'R': 37,\n",
       " 'S': 38,\n",
       " 'T': 39,\n",
       " 'U': 40,\n",
       " 'V': 41,\n",
       " 'W': 42,\n",
       " 'Y': 43,\n",
       " 'a': 44,\n",
       " 'b': 45,\n",
       " 'c': 46,\n",
       " 'd': 47,\n",
       " 'e': 48,\n",
       " 'f': 49,\n",
       " 'g': 50,\n",
       " 'h': 51,\n",
       " 'i': 52,\n",
       " 'j': 53,\n",
       " 'k': 54,\n",
       " 'l': 55,\n",
       " 'm': 56,\n",
       " 'n': 57,\n",
       " 'o': 58,\n",
       " 'p': 59,\n",
       " 'q': 60,\n",
       " 'r': 61,\n",
       " 's': 62,\n",
       " 't': 63,\n",
       " 'u': 64,\n",
       " 'v': 65,\n",
       " 'w': 66,\n",
       " 'x': 67,\n",
       " 'y': 68,\n",
       " 'z': 69,\n",
       " 'é': 70}"
      ]
     },
     "execution_count": 12,
     "metadata": {},
     "output_type": "execute_result"
    }
   ],
   "source": [
    "input_token_index"
   ]
  },
  {
   "cell_type": "code",
   "execution_count": 13,
   "id": "05e216e3",
   "metadata": {
    "scrolled": true
   },
   "outputs": [
    {
     "data": {
      "text/plain": [
       "{'\\t': 0,\n",
       " '\\n': 1,\n",
       " ' ': 2,\n",
       " '!': 3,\n",
       " '%': 4,\n",
       " '&': 5,\n",
       " \"'\": 6,\n",
       " '(': 7,\n",
       " ')': 8,\n",
       " ',': 9,\n",
       " '-': 10,\n",
       " '.': 11,\n",
       " '0': 12,\n",
       " '1': 13,\n",
       " '2': 14,\n",
       " '3': 15,\n",
       " '5': 16,\n",
       " '8': 17,\n",
       " '9': 18,\n",
       " ':': 19,\n",
       " '?': 20,\n",
       " 'A': 21,\n",
       " 'B': 22,\n",
       " 'C': 23,\n",
       " 'D': 24,\n",
       " 'E': 25,\n",
       " 'F': 26,\n",
       " 'G': 27,\n",
       " 'H': 28,\n",
       " 'I': 29,\n",
       " 'J': 30,\n",
       " 'K': 31,\n",
       " 'L': 32,\n",
       " 'M': 33,\n",
       " 'N': 34,\n",
       " 'O': 35,\n",
       " 'P': 36,\n",
       " 'Q': 37,\n",
       " 'R': 38,\n",
       " 'S': 39,\n",
       " 'T': 40,\n",
       " 'U': 41,\n",
       " 'V': 42,\n",
       " 'W': 43,\n",
       " 'Y': 44,\n",
       " 'a': 45,\n",
       " 'b': 46,\n",
       " 'c': 47,\n",
       " 'd': 48,\n",
       " 'e': 49,\n",
       " 'f': 50,\n",
       " 'g': 51,\n",
       " 'h': 52,\n",
       " 'i': 53,\n",
       " 'j': 54,\n",
       " 'k': 55,\n",
       " 'l': 56,\n",
       " 'm': 57,\n",
       " 'n': 58,\n",
       " 'o': 59,\n",
       " 'p': 60,\n",
       " 'q': 61,\n",
       " 'r': 62,\n",
       " 's': 63,\n",
       " 't': 64,\n",
       " 'u': 65,\n",
       " 'v': 66,\n",
       " 'w': 67,\n",
       " 'x': 68,\n",
       " 'y': 69,\n",
       " 'z': 70,\n",
       " '\\xa0': 71,\n",
       " '«': 72,\n",
       " '»': 73,\n",
       " 'À': 74,\n",
       " 'Ç': 75,\n",
       " 'É': 76,\n",
       " 'Ê': 77,\n",
       " 'à': 78,\n",
       " 'â': 79,\n",
       " 'ç': 80,\n",
       " 'è': 81,\n",
       " 'é': 82,\n",
       " 'ê': 83,\n",
       " 'î': 84,\n",
       " 'ï': 85,\n",
       " 'ô': 86,\n",
       " 'ù': 87,\n",
       " 'û': 88,\n",
       " 'œ': 89,\n",
       " '\\u2009': 90,\n",
       " '’': 91,\n",
       " '\\u202f': 92}"
      ]
     },
     "execution_count": 13,
     "metadata": {},
     "output_type": "execute_result"
    }
   ],
   "source": [
    "target_token_index"
   ]
  },
  {
   "cell_type": "code",
   "execution_count": 14,
   "id": "1181f587",
   "metadata": {},
   "outputs": [],
   "source": [
    "encoder_input_data=np.zeros(\n",
    "    (len(input_texts),max_encoder_seq_length,num_encoder_tokens),dtype='float32')\n",
    "decoder_input_data=np.zeros(\n",
    "    (len(input_texts),max_decoder_seq_length,num_decoder_tokens),dtype='float32')\n",
    "decoder_target_data=np.zeros(\n",
    "    (len(input_texts),max_decoder_seq_length,num_decoder_tokens),dtype='float32')"
   ]
  },
  {
   "cell_type": "code",
   "execution_count": 20,
   "id": "34ae9853",
   "metadata": {},
   "outputs": [],
   "source": [
    "for i, (input_text,target_text) in enumerate(zip(input_texts,target_texts)):\n",
    "    for t,char in enumerate(input_text):\n",
    "        encoder_input_data[i,t, input_token_index[char]]=1\n",
    "    encoder_input_data[i,t+1:,input_token_index[' ']]=1\n",
    "    for t,char in enumerate(target_text):\n",
    "        decoder_input_data[i,t,target_token_index[char]]=1\n",
    "        if t>0:\n",
    "            decoder_target_data[i,t-1,target_token_index[char]]=1\n",
    "    decoder_input_data[i,t+1:, target_token_index[' ']]=1\n",
    "    decoder_target_data[i,t:,target_token_index[' ']]=1"
   ]
  },
  {
   "cell_type": "code",
   "execution_count": 21,
   "id": "9b2ef034",
   "metadata": {},
   "outputs": [
    {
     "data": {
      "text/plain": [
       "(15, 71)"
      ]
     },
     "execution_count": 21,
     "metadata": {},
     "output_type": "execute_result"
    }
   ],
   "source": [
    "encoder_input_data[0].shape"
   ]
  },
  {
   "cell_type": "markdown",
   "id": "3bc57e99",
   "metadata": {},
   "source": [
    "## Create LSTM layer"
   ]
  },
  {
   "cell_type": "markdown",
   "id": "07fde58b",
   "metadata": {},
   "source": [
    "Encoding"
   ]
  },
  {
   "cell_type": "code",
   "execution_count": 22,
   "id": "f92a98fb",
   "metadata": {},
   "outputs": [],
   "source": [
    "encoder_inputs=Input(shape=(None,num_encoder_tokens))\n",
    "encoder=LSTM(latent_dim, return_state=True)\n",
    "encoder_outputs, state_h, state_c=encoder(encoder_inputs)\n",
    "encoder_states=[state_h, state_c]"
   ]
  },
  {
   "cell_type": "code",
   "execution_count": 23,
   "id": "30c275c9",
   "metadata": {},
   "outputs": [],
   "source": [
    "decoder_inputs=Input(shape=(None,num_decoder_tokens))\n",
    "decoder_lstm=LSTM(latent_dim, return_sequences=True ,return_state=True)\n",
    "decoder_outputs, _,_=decoder_lstm(decoder_inputs, initial_state=encoder_states)\n",
    "decoder_dense=Dense(num_decoder_tokens,activation='softmax')\n",
    "decoder_outputs=decoder_dense(decoder_outputs)"
   ]
  },
  {
   "cell_type": "code",
   "execution_count": 26,
   "id": "124d4172",
   "metadata": {},
   "outputs": [],
   "source": [
    "model=Model([encoder_inputs,decoder_inputs],decoder_outputs)\n",
    "model.compile(optimizer='rmsprop',loss='categorical_crossentropy',metrics=['accuracy'])"
   ]
  },
  {
   "cell_type": "code",
   "execution_count": 27,
   "id": "0ef68ba7",
   "metadata": {
    "scrolled": false
   },
   "outputs": [
    {
     "name": "stdout",
     "output_type": "stream",
     "text": [
      "Epoch 1/100\n",
      "125/125 [==============================] - 22s 158ms/step - loss: 1.1484 - accuracy: 0.7354 - val_loss: 1.0356 - val_accuracy: 0.7165\n",
      "Epoch 2/100\n",
      "125/125 [==============================] - 19s 152ms/step - loss: 0.8289 - accuracy: 0.7772 - val_loss: 0.8226 - val_accuracy: 0.7780\n",
      "Epoch 3/100\n",
      "125/125 [==============================] - 19s 149ms/step - loss: 0.6566 - accuracy: 0.8154 - val_loss: 0.6924 - val_accuracy: 0.8010\n",
      "Epoch 4/100\n",
      "125/125 [==============================] - 19s 154ms/step - loss: 0.5719 - accuracy: 0.8340 - val_loss: 0.6189 - val_accuracy: 0.8181\n",
      "Epoch 5/100\n",
      "125/125 [==============================] - 19s 156ms/step - loss: 0.5233 - accuracy: 0.8468 - val_loss: 0.6023 - val_accuracy: 0.8270\n",
      "Epoch 6/100\n",
      "125/125 [==============================] - 21s 167ms/step - loss: 0.4901 - accuracy: 0.8559 - val_loss: 0.5555 - val_accuracy: 0.8382\n",
      "Epoch 7/100\n",
      "125/125 [==============================] - 19s 156ms/step - loss: 0.4629 - accuracy: 0.8636 - val_loss: 0.5500 - val_accuracy: 0.8394\n",
      "Epoch 8/100\n",
      "125/125 [==============================] - 19s 153ms/step - loss: 0.4406 - accuracy: 0.8694 - val_loss: 0.5132 - val_accuracy: 0.8493\n",
      "Epoch 9/100\n",
      "125/125 [==============================] - 19s 149ms/step - loss: 0.4194 - accuracy: 0.8747 - val_loss: 0.4963 - val_accuracy: 0.8542\n",
      "Epoch 10/100\n",
      "125/125 [==============================] - 19s 151ms/step - loss: 0.4018 - accuracy: 0.8796 - val_loss: 0.4832 - val_accuracy: 0.8571\n",
      "Epoch 11/100\n",
      "125/125 [==============================] - 19s 150ms/step - loss: 0.3853 - accuracy: 0.8842 - val_loss: 0.4741 - val_accuracy: 0.8605\n",
      "Epoch 12/100\n",
      "125/125 [==============================] - 20s 157ms/step - loss: 0.3695 - accuracy: 0.8888 - val_loss: 0.4671 - val_accuracy: 0.8628\n",
      "Epoch 13/100\n",
      "125/125 [==============================] - 19s 150ms/step - loss: 0.3555 - accuracy: 0.8925 - val_loss: 0.4526 - val_accuracy: 0.8663\n",
      "Epoch 14/100\n",
      "125/125 [==============================] - 19s 155ms/step - loss: 0.3418 - accuracy: 0.8966 - val_loss: 0.4513 - val_accuracy: 0.8676\n",
      "Epoch 15/100\n",
      "125/125 [==============================] - 19s 152ms/step - loss: 0.3293 - accuracy: 0.9002 - val_loss: 0.4434 - val_accuracy: 0.8699\n",
      "Epoch 16/100\n",
      "125/125 [==============================] - 18s 144ms/step - loss: 0.3170 - accuracy: 0.9039 - val_loss: 0.4445 - val_accuracy: 0.8688\n",
      "Epoch 17/100\n",
      "125/125 [==============================] - 19s 156ms/step - loss: 0.3055 - accuracy: 0.9075 - val_loss: 0.4350 - val_accuracy: 0.8730\n",
      "Epoch 18/100\n",
      "125/125 [==============================] - 19s 149ms/step - loss: 0.2947 - accuracy: 0.9108 - val_loss: 0.4322 - val_accuracy: 0.8743\n",
      "Epoch 19/100\n",
      "125/125 [==============================] - 19s 156ms/step - loss: 0.2843 - accuracy: 0.9137 - val_loss: 0.4324 - val_accuracy: 0.8743\n",
      "Epoch 20/100\n",
      "125/125 [==============================] - 19s 155ms/step - loss: 0.2743 - accuracy: 0.9168 - val_loss: 0.4313 - val_accuracy: 0.8761\n",
      "Epoch 21/100\n",
      "125/125 [==============================] - 19s 151ms/step - loss: 0.2648 - accuracy: 0.9196 - val_loss: 0.4320 - val_accuracy: 0.8764\n",
      "Epoch 22/100\n",
      "125/125 [==============================] - 20s 159ms/step - loss: 0.2554 - accuracy: 0.9224 - val_loss: 0.4330 - val_accuracy: 0.8760\n",
      "Epoch 23/100\n",
      "125/125 [==============================] - 19s 149ms/step - loss: 0.2469 - accuracy: 0.9252 - val_loss: 0.4354 - val_accuracy: 0.8759\n",
      "Epoch 24/100\n",
      "125/125 [==============================] - 20s 159ms/step - loss: 0.2387 - accuracy: 0.9275 - val_loss: 0.4350 - val_accuracy: 0.8773\n",
      "Epoch 25/100\n",
      "125/125 [==============================] - 19s 149ms/step - loss: 0.2310 - accuracy: 0.9296 - val_loss: 0.4375 - val_accuracy: 0.8774\n",
      "Epoch 26/100\n",
      "125/125 [==============================] - 18s 147ms/step - loss: 0.2230 - accuracy: 0.9318 - val_loss: 0.4381 - val_accuracy: 0.8771\n",
      "Epoch 27/100\n",
      "125/125 [==============================] - 20s 158ms/step - loss: 0.2157 - accuracy: 0.9343 - val_loss: 0.4416 - val_accuracy: 0.8786\n",
      "Epoch 28/100\n",
      "125/125 [==============================] - 20s 158ms/step - loss: 0.2088 - accuracy: 0.9365 - val_loss: 0.4429 - val_accuracy: 0.8780\n",
      "Epoch 29/100\n",
      "125/125 [==============================] - 19s 151ms/step - loss: 0.2019 - accuracy: 0.9384 - val_loss: 0.4527 - val_accuracy: 0.8769\n",
      "Epoch 30/100\n",
      "125/125 [==============================] - 20s 157ms/step - loss: 0.1956 - accuracy: 0.9401 - val_loss: 0.4498 - val_accuracy: 0.8789\n",
      "Epoch 31/100\n",
      "125/125 [==============================] - 19s 154ms/step - loss: 0.1896 - accuracy: 0.9421 - val_loss: 0.4528 - val_accuracy: 0.8781\n",
      "Epoch 32/100\n",
      "125/125 [==============================] - 19s 154ms/step - loss: 0.1838 - accuracy: 0.9438 - val_loss: 0.4564 - val_accuracy: 0.8793\n",
      "Epoch 33/100\n",
      "125/125 [==============================] - 19s 149ms/step - loss: 0.1783 - accuracy: 0.9457 - val_loss: 0.4618 - val_accuracy: 0.8794\n",
      "Epoch 34/100\n",
      "125/125 [==============================] - 18s 148ms/step - loss: 0.1730 - accuracy: 0.9472 - val_loss: 0.4636 - val_accuracy: 0.8791\n",
      "Epoch 35/100\n",
      "125/125 [==============================] - 19s 154ms/step - loss: 0.1677 - accuracy: 0.9486 - val_loss: 0.4708 - val_accuracy: 0.8781\n",
      "Epoch 36/100\n",
      "125/125 [==============================] - 19s 155ms/step - loss: 0.1630 - accuracy: 0.9501 - val_loss: 0.4674 - val_accuracy: 0.8799\n",
      "Epoch 37/100\n",
      "125/125 [==============================] - 20s 162ms/step - loss: 0.1582 - accuracy: 0.9513 - val_loss: 0.4760 - val_accuracy: 0.8795\n",
      "Epoch 38/100\n",
      "125/125 [==============================] - 19s 148ms/step - loss: 0.1537 - accuracy: 0.9528 - val_loss: 0.4794 - val_accuracy: 0.8790\n",
      "Epoch 39/100\n",
      "125/125 [==============================] - 20s 157ms/step - loss: 0.1497 - accuracy: 0.9541 - val_loss: 0.4870 - val_accuracy: 0.8785\n",
      "Epoch 40/100\n",
      "125/125 [==============================] - 19s 156ms/step - loss: 0.1453 - accuracy: 0.9552 - val_loss: 0.4896 - val_accuracy: 0.8789\n",
      "Epoch 41/100\n",
      "125/125 [==============================] - 19s 155ms/step - loss: 0.1415 - accuracy: 0.9561 - val_loss: 0.4944 - val_accuracy: 0.8790\n",
      "Epoch 42/100\n",
      "125/125 [==============================] - 19s 149ms/step - loss: 0.1379 - accuracy: 0.9574 - val_loss: 0.4950 - val_accuracy: 0.8787\n",
      "Epoch 43/100\n",
      "125/125 [==============================] - 19s 149ms/step - loss: 0.1343 - accuracy: 0.9587 - val_loss: 0.5032 - val_accuracy: 0.8789\n",
      "Epoch 44/100\n",
      "125/125 [==============================] - 19s 149ms/step - loss: 0.1306 - accuracy: 0.9595 - val_loss: 0.5019 - val_accuracy: 0.8792\n",
      "Epoch 45/100\n",
      "125/125 [==============================] - 19s 149ms/step - loss: 0.1276 - accuracy: 0.9604 - val_loss: 0.5112 - val_accuracy: 0.8782\n",
      "Epoch 46/100\n",
      "125/125 [==============================] - 19s 150ms/step - loss: 0.1239 - accuracy: 0.9616 - val_loss: 0.5218 - val_accuracy: 0.8784\n",
      "Epoch 47/100\n",
      "125/125 [==============================] - 20s 158ms/step - loss: 0.1212 - accuracy: 0.9623 - val_loss: 0.5200 - val_accuracy: 0.8785\n",
      "Epoch 48/100\n",
      "125/125 [==============================] - 19s 151ms/step - loss: 0.1183 - accuracy: 0.9628 - val_loss: 0.5233 - val_accuracy: 0.8779\n",
      "Epoch 49/100\n",
      "125/125 [==============================] - 19s 155ms/step - loss: 0.1151 - accuracy: 0.9640 - val_loss: 0.5256 - val_accuracy: 0.8785\n",
      "Epoch 50/100\n",
      "125/125 [==============================] - 19s 152ms/step - loss: 0.1123 - accuracy: 0.9650 - val_loss: 0.5346 - val_accuracy: 0.8783\n",
      "Epoch 51/100\n",
      "125/125 [==============================] - 19s 150ms/step - loss: 0.1098 - accuracy: 0.9654 - val_loss: 0.5370 - val_accuracy: 0.8779\n",
      "Epoch 52/100\n",
      "125/125 [==============================] - 21s 167ms/step - loss: 0.1072 - accuracy: 0.9664 - val_loss: 0.5406 - val_accuracy: 0.8778\n",
      "Epoch 53/100\n",
      "125/125 [==============================] - 19s 152ms/step - loss: 0.1041 - accuracy: 0.9672 - val_loss: 0.5460 - val_accuracy: 0.8781\n",
      "Epoch 54/100\n",
      "125/125 [==============================] - 19s 155ms/step - loss: 0.1023 - accuracy: 0.9676 - val_loss: 0.5531 - val_accuracy: 0.8776\n",
      "Epoch 55/100\n",
      "125/125 [==============================] - 18s 144ms/step - loss: 0.0999 - accuracy: 0.9684 - val_loss: 0.5554 - val_accuracy: 0.8773\n",
      "Epoch 56/100\n",
      "125/125 [==============================] - 19s 155ms/step - loss: 0.0978 - accuracy: 0.9688 - val_loss: 0.5608 - val_accuracy: 0.8772\n",
      "Epoch 57/100\n",
      "125/125 [==============================] - 19s 153ms/step - loss: 0.0953 - accuracy: 0.9698 - val_loss: 0.5620 - val_accuracy: 0.8781\n",
      "Epoch 58/100\n",
      "125/125 [==============================] - 19s 153ms/step - loss: 0.0933 - accuracy: 0.9704 - val_loss: 0.5664 - val_accuracy: 0.8776\n",
      "Epoch 59/100\n",
      "125/125 [==============================] - 19s 156ms/step - loss: 0.0915 - accuracy: 0.9709 - val_loss: 0.5772 - val_accuracy: 0.8770\n",
      "Epoch 60/100\n",
      "125/125 [==============================] - 18s 144ms/step - loss: 0.0896 - accuracy: 0.9712 - val_loss: 0.5789 - val_accuracy: 0.8766\n",
      "Epoch 61/100\n",
      "125/125 [==============================] - 20s 160ms/step - loss: 0.0876 - accuracy: 0.9720 - val_loss: 0.5836 - val_accuracy: 0.8774\n",
      "Epoch 62/100\n",
      "125/125 [==============================] - 19s 152ms/step - loss: 0.0856 - accuracy: 0.9724 - val_loss: 0.5923 - val_accuracy: 0.8768\n",
      "Epoch 63/100\n",
      "125/125 [==============================] - 20s 161ms/step - loss: 0.0840 - accuracy: 0.9728 - val_loss: 0.5940 - val_accuracy: 0.8766\n",
      "Epoch 64/100\n",
      "125/125 [==============================] - 18s 145ms/step - loss: 0.0821 - accuracy: 0.9734 - val_loss: 0.5960 - val_accuracy: 0.8769\n",
      "Epoch 65/100\n",
      "125/125 [==============================] - 19s 149ms/step - loss: 0.0807 - accuracy: 0.9738 - val_loss: 0.6023 - val_accuracy: 0.8769\n",
      "Epoch 66/100\n",
      "125/125 [==============================] - 19s 152ms/step - loss: 0.0788 - accuracy: 0.9745 - val_loss: 0.6126 - val_accuracy: 0.8754\n",
      "Epoch 67/100\n",
      "125/125 [==============================] - 19s 154ms/step - loss: 0.0773 - accuracy: 0.9747 - val_loss: 0.6076 - val_accuracy: 0.8772\n",
      "Epoch 68/100\n",
      "125/125 [==============================] - 18s 147ms/step - loss: 0.0761 - accuracy: 0.9749 - val_loss: 0.6176 - val_accuracy: 0.8764\n",
      "Epoch 69/100\n",
      "125/125 [==============================] - 20s 159ms/step - loss: 0.0742 - accuracy: 0.9756 - val_loss: 0.6216 - val_accuracy: 0.8764\n",
      "Epoch 70/100\n",
      "125/125 [==============================] - 19s 155ms/step - loss: 0.0730 - accuracy: 0.9762 - val_loss: 0.6231 - val_accuracy: 0.8772\n",
      "Epoch 71/100\n",
      "125/125 [==============================] - 20s 156ms/step - loss: 0.0715 - accuracy: 0.9765 - val_loss: 0.6300 - val_accuracy: 0.8765\n",
      "Epoch 72/100\n",
      "125/125 [==============================] - 19s 155ms/step - loss: 0.0700 - accuracy: 0.9771 - val_loss: 0.6323 - val_accuracy: 0.8755\n",
      "Epoch 73/100\n",
      "125/125 [==============================] - 19s 153ms/step - loss: 0.0690 - accuracy: 0.9769 - val_loss: 0.6391 - val_accuracy: 0.8751\n",
      "Epoch 74/100\n",
      "125/125 [==============================] - 19s 151ms/step - loss: 0.0676 - accuracy: 0.9777 - val_loss: 0.6384 - val_accuracy: 0.8758\n",
      "Epoch 75/100\n",
      "125/125 [==============================] - 18s 146ms/step - loss: 0.0663 - accuracy: 0.9781 - val_loss: 0.6483 - val_accuracy: 0.8751\n",
      "Epoch 76/100\n",
      "125/125 [==============================] - 20s 158ms/step - loss: 0.0651 - accuracy: 0.9781 - val_loss: 0.6522 - val_accuracy: 0.8752\n",
      "Epoch 77/100\n",
      "125/125 [==============================] - 19s 152ms/step - loss: 0.0640 - accuracy: 0.9787 - val_loss: 0.6544 - val_accuracy: 0.8754\n",
      "Epoch 78/100\n",
      "125/125 [==============================] - 20s 157ms/step - loss: 0.0628 - accuracy: 0.9791 - val_loss: 0.6566 - val_accuracy: 0.8748\n",
      "Epoch 79/100\n",
      "125/125 [==============================] - 19s 153ms/step - loss: 0.0618 - accuracy: 0.9793 - val_loss: 0.6619 - val_accuracy: 0.8753\n",
      "Epoch 80/100\n",
      "125/125 [==============================] - 20s 157ms/step - loss: 0.0607 - accuracy: 0.9794 - val_loss: 0.6626 - val_accuracy: 0.8752\n",
      "Epoch 81/100\n",
      "125/125 [==============================] - 20s 157ms/step - loss: 0.0599 - accuracy: 0.9798 - val_loss: 0.6631 - val_accuracy: 0.8759\n",
      "Epoch 82/100\n",
      "125/125 [==============================] - 19s 156ms/step - loss: 0.0589 - accuracy: 0.9802 - val_loss: 0.6745 - val_accuracy: 0.8748\n",
      "Epoch 83/100\n",
      "125/125 [==============================] - 20s 159ms/step - loss: 0.0582 - accuracy: 0.9803 - val_loss: 0.6698 - val_accuracy: 0.8749\n",
      "Epoch 84/100\n",
      "125/125 [==============================] - 18s 148ms/step - loss: 0.0570 - accuracy: 0.9805 - val_loss: 0.6768 - val_accuracy: 0.8754\n",
      "Epoch 85/100\n",
      "125/125 [==============================] - 19s 153ms/step - loss: 0.0560 - accuracy: 0.9809 - val_loss: 0.6832 - val_accuracy: 0.8747\n",
      "Epoch 86/100\n",
      "125/125 [==============================] - 19s 156ms/step - loss: 0.0551 - accuracy: 0.9811 - val_loss: 0.6869 - val_accuracy: 0.8750\n",
      "Epoch 87/100\n",
      "125/125 [==============================] - 19s 152ms/step - loss: 0.0545 - accuracy: 0.9812 - val_loss: 0.6886 - val_accuracy: 0.8756\n",
      "Epoch 88/100\n",
      "125/125 [==============================] - 19s 154ms/step - loss: 0.0537 - accuracy: 0.9815 - val_loss: 0.6939 - val_accuracy: 0.8751\n",
      "Epoch 89/100\n",
      "125/125 [==============================] - 19s 152ms/step - loss: 0.0526 - accuracy: 0.9818 - val_loss: 0.6947 - val_accuracy: 0.8752\n",
      "Epoch 90/100\n",
      "125/125 [==============================] - 19s 153ms/step - loss: 0.0521 - accuracy: 0.9820 - val_loss: 0.7023 - val_accuracy: 0.8748\n",
      "Epoch 91/100\n",
      "125/125 [==============================] - 18s 148ms/step - loss: 0.0514 - accuracy: 0.9820 - val_loss: 0.6982 - val_accuracy: 0.8747\n",
      "Epoch 92/100\n",
      "125/125 [==============================] - 19s 152ms/step - loss: 0.0505 - accuracy: 0.9823 - val_loss: 0.7091 - val_accuracy: 0.8748\n",
      "Epoch 93/100\n",
      "125/125 [==============================] - 19s 151ms/step - loss: 0.0498 - accuracy: 0.9825 - val_loss: 0.7113 - val_accuracy: 0.8738\n",
      "Epoch 94/100\n",
      "125/125 [==============================] - 17s 138ms/step - loss: 0.0494 - accuracy: 0.9827 - val_loss: 0.7079 - val_accuracy: 0.8742\n",
      "Epoch 95/100\n",
      "125/125 [==============================] - 19s 155ms/step - loss: 0.0486 - accuracy: 0.9828 - val_loss: 0.7110 - val_accuracy: 0.8746\n",
      "Epoch 96/100\n",
      "125/125 [==============================] - 18s 146ms/step - loss: 0.0480 - accuracy: 0.9831 - val_loss: 0.7097 - val_accuracy: 0.8754\n",
      "Epoch 97/100\n",
      "125/125 [==============================] - 18s 146ms/step - loss: 0.0474 - accuracy: 0.9832 - val_loss: 0.7186 - val_accuracy: 0.8752\n",
      "Epoch 98/100\n",
      "125/125 [==============================] - 18s 142ms/step - loss: 0.0471 - accuracy: 0.9831 - val_loss: 0.7206 - val_accuracy: 0.8743\n",
      "Epoch 99/100\n",
      "125/125 [==============================] - 19s 151ms/step - loss: 0.0461 - accuracy: 0.9836 - val_loss: 0.7210 - val_accuracy: 0.8751\n",
      "Epoch 100/100\n",
      "125/125 [==============================] - 18s 145ms/step - loss: 0.0458 - accuracy: 0.9836 - val_loss: 0.7258 - val_accuracy: 0.8744\n"
     ]
    },
    {
     "data": {
      "text/plain": [
       "<keras.callbacks.History at 0x1f8c3e845e0>"
      ]
     },
     "execution_count": 27,
     "metadata": {},
     "output_type": "execute_result"
    }
   ],
   "source": [
    "model.fit([encoder_input_data,decoder_input_data],decoder_target_data,batch_size=batch_size,\n",
    "          epochs=epochs,validation_split=0.2)"
   ]
  },
  {
   "cell_type": "code",
   "execution_count": null,
   "id": "7ed47660",
   "metadata": {},
   "outputs": [],
   "source": []
  }
 ],
 "metadata": {
  "kernelspec": {
   "display_name": "Python 3 (ipykernel)",
   "language": "python",
   "name": "python3"
  },
  "language_info": {
   "codemirror_mode": {
    "name": "ipython",
    "version": 3
   },
   "file_extension": ".py",
   "mimetype": "text/x-python",
   "name": "python",
   "nbconvert_exporter": "python",
   "pygments_lexer": "ipython3",
   "version": "3.8.0"
  }
 },
 "nbformat": 4,
 "nbformat_minor": 5
}
